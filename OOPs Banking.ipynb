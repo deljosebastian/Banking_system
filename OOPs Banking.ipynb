{
 "cells": [
  {
   "cell_type": "code",
   "execution_count": 22,
   "id": "d83553b5-7feb-419d-aba8-9ef7d6900c39",
   "metadata": {},
   "outputs": [],
   "source": [
    "class Account:\n",
    "    def __init__(self,account_holder,password):\n",
    "        self.account_holder = account_holder\n",
    "        self.password = password\n",
    "        self.balance = 0\n",
    "        self.transaction_history = []\n",
    "\n",
    "    def deposit(self, amount):\n",
    "         if amount > 0:\n",
    "             self.balance += amount\n",
    "             self.transaction_history.append(f'Depoist {amount} ')\n",
    "             print(f'₹ {amount} Deposit successful')\n",
    "         else:\n",
    "             print('Invalid deposit')\n",
    "\n",
    "    def withdraw(self, amount):\n",
    "        if amount <= self.balance:\n",
    "            self.balance -= amount\n",
    "            self. transaction_history.append(f'Withdraw {amount} ')\n",
    "            print(f'₹ {amount} withdrawn successful')\n",
    "        else:\n",
    "            print('Insufficent balance or Invalid input')\n",
    "\n",
    "    def view_balance(self):\n",
    "        print(f'Current balance is: ₹{self.balance}')\n",
    "\n",
    "    \n",
    "    def show_transaction_history(self):\n",
    "        print('Transaction history')\n",
    "        for transaction in self.transaction_history:\n",
    "            print(transaction)\n",
    "    \n",
    "\n",
    "    "
   ]
  },
  {
   "cell_type": "code",
   "execution_count": 23,
   "id": "3c8b4271-374a-430b-a8f9-c047f685d74f",
   "metadata": {},
   "outputs": [],
   "source": [
    "class Bank:\n",
    "    def __init__(self):\n",
    "        self.accounts = {}\n",
    "\n",
    "    def create_account(self, name, password):\n",
    "        if name in self.accounts:\n",
    "            print('Account already exists')\n",
    "        else:\n",
    "            self.accounts[name] = Account(name, password)\n",
    "            print('Account created successfully')\n",
    "\n",
    "    def login(self, account_holder, password):\n",
    "        Account = self.accounts.get(account_holder)\n",
    "        if Account and Account.password == password:\n",
    "            print('login successfull')\n",
    "            return Account\n",
    "\n",
    "        else:\n",
    "            print('Invalid login')\n",
    "            return None\n",
    "            \n",
    "    "
   ]
  },
  {
   "cell_type": "code",
   "execution_count": 24,
   "id": "f2ff7c07-d429-4e30-8c10-6aea56ae02a0",
   "metadata": {},
   "outputs": [
    {
     "name": "stdout",
     "output_type": "stream",
     "text": [
      "\n",
      "=== Banking System ===\n",
      "1. Create Account\n",
      "2. Login\n",
      "3. Exit\n"
     ]
    },
    {
     "name": "stdin",
     "output_type": "stream",
     "text": [
      "Enter your choice:  1\n",
      "Enter account holder name:  Deljo\n",
      "Enter password:  123\n"
     ]
    },
    {
     "name": "stdout",
     "output_type": "stream",
     "text": [
      "Account created successfully\n",
      "\n",
      "=== Banking System ===\n",
      "1. Create Account\n",
      "2. Login\n",
      "3. Exit\n"
     ]
    },
    {
     "name": "stdin",
     "output_type": "stream",
     "text": [
      "Enter your choice:  2\n",
      "Enter account holder name:  Deljo\n",
      "Enter password:  123\n"
     ]
    },
    {
     "name": "stdout",
     "output_type": "stream",
     "text": [
      "login successfull\n",
      "\n",
      "--- Account Menu ---\n",
      "1. Deposit\n",
      "2. Withdraw\n",
      "3. View Balance\n",
      "4. Transaction History\n",
      "5. Logout\n"
     ]
    },
    {
     "name": "stdin",
     "output_type": "stream",
     "text": [
      "Enter your choice:  1\n",
      "Enter amount to deposit:  10000\n"
     ]
    },
    {
     "name": "stdout",
     "output_type": "stream",
     "text": [
      "₹ 10000.0 Deposit successful\n",
      "\n",
      "--- Account Menu ---\n",
      "1. Deposit\n",
      "2. Withdraw\n",
      "3. View Balance\n",
      "4. Transaction History\n",
      "5. Logout\n"
     ]
    },
    {
     "name": "stdin",
     "output_type": "stream",
     "text": [
      "Enter your choice:  2\n",
      "Enter amount to withdraw:  500\n"
     ]
    },
    {
     "name": "stdout",
     "output_type": "stream",
     "text": [
      "₹ 500.0 withdrawn successful\n",
      "\n",
      "--- Account Menu ---\n",
      "1. Deposit\n",
      "2. Withdraw\n",
      "3. View Balance\n",
      "4. Transaction History\n",
      "5. Logout\n"
     ]
    },
    {
     "name": "stdin",
     "output_type": "stream",
     "text": [
      "Enter your choice:  3\n"
     ]
    },
    {
     "name": "stdout",
     "output_type": "stream",
     "text": [
      "Current balance is: ₹9500.0\n",
      "\n",
      "--- Account Menu ---\n",
      "1. Deposit\n",
      "2. Withdraw\n",
      "3. View Balance\n",
      "4. Transaction History\n",
      "5. Logout\n"
     ]
    },
    {
     "name": "stdin",
     "output_type": "stream",
     "text": [
      "Enter your choice:  4\n"
     ]
    },
    {
     "name": "stdout",
     "output_type": "stream",
     "text": [
      "Transaction history\n",
      "Depoist 10000.0 \n",
      "Withdraw 500.0 \n",
      "\n",
      "--- Account Menu ---\n",
      "1. Deposit\n",
      "2. Withdraw\n",
      "3. View Balance\n",
      "4. Transaction History\n",
      "5. Logout\n"
     ]
    },
    {
     "name": "stdin",
     "output_type": "stream",
     "text": [
      "Enter your choice:  5\n"
     ]
    },
    {
     "name": "stdout",
     "output_type": "stream",
     "text": [
      "Logging out...\n",
      "\n",
      "=== Banking System ===\n",
      "1. Create Account\n",
      "2. Login\n",
      "3. Exit\n"
     ]
    },
    {
     "name": "stdin",
     "output_type": "stream",
     "text": [
      "Enter your choice:  3\n"
     ]
    },
    {
     "name": "stdout",
     "output_type": "stream",
     "text": [
      "Exiting banking system. Thank you!\n"
     ]
    }
   ],
   "source": [
    "# User interaction\n",
    "\n",
    "def main():\n",
    "    bank = Bank()\n",
    "\n",
    "    while True:\n",
    "        print(\"\\n=== Banking System ===\")\n",
    "        print(\"1. Create Account\")\n",
    "        print(\"2. Login\")\n",
    "        print(\"3. Exit\")\n",
    "\n",
    "        choice = input(\"Enter your choice: \")\n",
    "\n",
    "        if choice == \"1\":\n",
    "            name = input(\"Enter account holder name: \")\n",
    "            password = input(\"Enter password: \")\n",
    "            bank.create_account(name, password)\n",
    "\n",
    "        elif choice == \"2\":\n",
    "            name = input(\"Enter account holder name: \")\n",
    "            password = input(\"Enter password: \")\n",
    "            account = bank.login(name, password)\n",
    "\n",
    "            if account:\n",
    "                while True:\n",
    "                    print(\"\\n--- Account Menu ---\")\n",
    "                    print(\"1. Deposit\")\n",
    "                    print(\"2. Withdraw\")\n",
    "                    print(\"3. View Balance\")\n",
    "                    print(\"4. Transaction History\")\n",
    "                    print(\"5. Logout\")\n",
    "\n",
    "                    acc_choice = input(\"Enter your choice: \")\n",
    "\n",
    "                    if acc_choice == \"1\":\n",
    "                        amount = float(input(\"Enter amount to deposit: \"))\n",
    "                        account.deposit(amount)\n",
    "\n",
    "                    elif acc_choice == \"2\":\n",
    "                        amount = float(input(\"Enter amount to withdraw: \"))\n",
    "                        account.withdraw(amount)\n",
    "\n",
    "                    elif acc_choice == \"3\":\n",
    "                        account.view_balance()\n",
    "\n",
    "                    elif acc_choice == \"4\":\n",
    "                        account.show_transaction_history()\n",
    "\n",
    "                    elif acc_choice == \"5\":\n",
    "                        print(\"Logging out...\")\n",
    "                        break\n",
    "\n",
    "                    else:\n",
    "                        print(\"Invalid choice. Try again.\")\n",
    "\n",
    "        elif choice == \"3\":\n",
    "            print(\"Exiting banking system. Thank you!\")\n",
    "            break\n",
    "\n",
    "        else:\n",
    "            print(\"Invalid choice. Please select a valid option.\")\n",
    "\n",
    "\n",
    "if __name__ == \"__main__\":\n",
    "    main()"
   ]
  },
  {
   "cell_type": "code",
   "execution_count": null,
   "id": "9456c8c2-9a9b-43b7-89a4-7717df98580b",
   "metadata": {},
   "outputs": [],
   "source": []
  }
 ],
 "metadata": {
  "kernelspec": {
   "display_name": "Python 3 (ipykernel)",
   "language": "python",
   "name": "python3"
  },
  "language_info": {
   "codemirror_mode": {
    "name": "ipython",
    "version": 3
   },
   "file_extension": ".py",
   "mimetype": "text/x-python",
   "name": "python",
   "nbconvert_exporter": "python",
   "pygments_lexer": "ipython3",
   "version": "3.12.4"
  }
 },
 "nbformat": 4,
 "nbformat_minor": 5
}
